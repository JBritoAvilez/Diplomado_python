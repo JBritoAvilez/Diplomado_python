{
 "cells": [
  {
   "cell_type": "code",
   "execution_count": 1,
   "id": "b21e6d3a",
   "metadata": {},
   "outputs": [
    {
     "name": "stdout",
     "output_type": "stream",
     "text": [
      "hellor python\n"
     ]
    }
   ],
   "source": [
    "print(\"hellor python\")"
   ]
  },
  {
   "cell_type": "code",
   "execution_count": 2,
   "id": "97d1939f",
   "metadata": {},
   "outputs": [],
   "source": [
    "x = 2\n",
    "y = 3"
   ]
  },
  {
   "cell_type": "code",
   "execution_count": 9,
   "id": "cd070bcd",
   "metadata": {
    "scrolled": true
   },
   "outputs": [
    {
     "name": "stdout",
     "output_type": "stream",
     "text": [
      "5\n",
      "-1\n",
      "6\n",
      "0.6666666666666666\n"
     ]
    }
   ],
   "source": [
    "print(x + y)\n",
    "print(x - y)\n",
    "print(x * y)\n",
    "print(x /y)"
   ]
  },
  {
   "cell_type": "code",
   "execution_count": 12,
   "id": "51160697",
   "metadata": {},
   "outputs": [],
   "source": [
    "variable_larga = 35\n",
    "paragraph = \"un parrafo\""
   ]
  },
  {
   "cell_type": "code",
   "execution_count": 11,
   "id": "6b3fb17a",
   "metadata": {
    "scrolled": true
   },
   "outputs": [
    {
     "data": {
      "text/plain": [
       "35"
      ]
     },
     "execution_count": 11,
     "metadata": {},
     "output_type": "execute_result"
    }
   ],
   "source": [
    "variable_larga"
   ]
  },
  {
   "cell_type": "code",
   "execution_count": 13,
   "id": "a059dc74",
   "metadata": {},
   "outputs": [
    {
     "name": "stdout",
     "output_type": "stream",
     "text": [
      "\n"
     ]
    }
   ],
   "source": [
    "print()"
   ]
  },
  {
   "cell_type": "markdown",
   "id": "ae62327d",
   "metadata": {},
   "source": [
    "Esta es una celda Markdown"
   ]
  },
  {
   "cell_type": "markdown",
   "id": "07c946f6",
   "metadata": {},
   "source": [
    "## Parte 1"
   ]
  },
  {
   "cell_type": "markdown",
   "id": "86c34b65",
   "metadata": {},
   "source": [
    "<img src=\"logo.png\" alt=\"Logo\" styke=\"height:100xp;\"/>"
   ]
  },
  {
   "cell_type": "markdown",
   "id": "98b24852",
   "metadata": {},
   "source": [
    "## hola"
   ]
  },
  {
   "cell_type": "markdown",
   "id": "08b3a002",
   "metadata": {},
   "source": [
    "[Parte 1](#Parte-1)"
   ]
  },
  {
   "cell_type": "markdown",
   "id": "1a24cc98",
   "metadata": {},
   "source": [
    "$$y = mx +b$$\n",
    "\n",
    "$m: slope$\n",
    "\n",
    "$$\\eta = \\frac{P_{out}}{P_{in}}$$\n",
    "\n",
    "$$e^{-jx} = \\cos{x} + j \\sin{x}$$\n",
    "\n",
    "$$c^2 = \\sqrt{a^2 + b^2}$$\n",
    "\n",
    "$\\alpha, \\beta, \\gamma$"
   ]
  },
  {
   "cell_type": "code",
   "execution_count": null,
   "id": "1ace9e5d",
   "metadata": {},
   "outputs": [],
   "source": []
  }
 ],
 "metadata": {
  "kernelspec": {
   "display_name": "Python 3 (ipykernel)",
   "language": "python",
   "name": "python3"
  },
  "language_info": {
   "codemirror_mode": {
    "name": "ipython",
    "version": 3
   },
   "file_extension": ".py",
   "mimetype": "text/x-python",
   "name": "python",
   "nbconvert_exporter": "python",
   "pygments_lexer": "ipython3",
   "version": "3.9.12"
  }
 },
 "nbformat": 4,
 "nbformat_minor": 5
}
